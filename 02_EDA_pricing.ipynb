{
 "cells": [
  {
   "cell_type": "code",
   "execution_count": 24,
   "metadata": {},
   "outputs": [],
   "source": [
    "# Create a fast API\n",
    "# https://app.jedha.co/course/serve-your-model-with-api-ft/fastapi-basics-ft\n",
    "\n",
    "import matplotlib.pyplot as plt\n",
    "from matplotlib.colors import Normalize\n",
    "import numpy as np\n",
    "import pandas as pd\n",
    "import plotly.express as px\n",
    "import plotly.figure_factory as ff\n",
    "import plotly.graph_objects as go\n",
    "import plotly.io as pio\n",
    "from plotly.subplots import make_subplots\n",
    "import re\n",
    "import seaborn as sns"
   ]
  },
  {
   "cell_type": "code",
   "execution_count": 25,
   "metadata": {},
   "outputs": [],
   "source": [
    "dataset = pd.read_csv('src/get_around_pricing_project.csv', index_col=0)"
   ]
  },
  {
   "cell_type": "code",
   "execution_count": 26,
   "metadata": {},
   "outputs": [
    {
     "data": {
      "text/html": [
       "<div>\n",
       "<style scoped>\n",
       "    .dataframe tbody tr th:only-of-type {\n",
       "        vertical-align: middle;\n",
       "    }\n",
       "\n",
       "    .dataframe tbody tr th {\n",
       "        vertical-align: top;\n",
       "    }\n",
       "\n",
       "    .dataframe thead th {\n",
       "        text-align: right;\n",
       "    }\n",
       "</style>\n",
       "<table border=\"1\" class=\"dataframe\">\n",
       "  <thead>\n",
       "    <tr style=\"text-align: right;\">\n",
       "      <th></th>\n",
       "      <th>model_key</th>\n",
       "      <th>mileage</th>\n",
       "      <th>engine_power</th>\n",
       "      <th>fuel</th>\n",
       "      <th>paint_color</th>\n",
       "      <th>car_type</th>\n",
       "      <th>private_parking_available</th>\n",
       "      <th>has_gps</th>\n",
       "      <th>has_air_conditioning</th>\n",
       "      <th>automatic_car</th>\n",
       "      <th>has_getaround_connect</th>\n",
       "      <th>has_speed_regulator</th>\n",
       "      <th>winter_tires</th>\n",
       "      <th>rental_price_per_day</th>\n",
       "    </tr>\n",
       "  </thead>\n",
       "  <tbody>\n",
       "    <tr>\n",
       "      <th>0</th>\n",
       "      <td>Citroën</td>\n",
       "      <td>140411</td>\n",
       "      <td>100</td>\n",
       "      <td>diesel</td>\n",
       "      <td>black</td>\n",
       "      <td>convertible</td>\n",
       "      <td>True</td>\n",
       "      <td>True</td>\n",
       "      <td>False</td>\n",
       "      <td>False</td>\n",
       "      <td>True</td>\n",
       "      <td>True</td>\n",
       "      <td>True</td>\n",
       "      <td>106</td>\n",
       "    </tr>\n",
       "    <tr>\n",
       "      <th>1</th>\n",
       "      <td>Citroën</td>\n",
       "      <td>13929</td>\n",
       "      <td>317</td>\n",
       "      <td>petrol</td>\n",
       "      <td>grey</td>\n",
       "      <td>convertible</td>\n",
       "      <td>True</td>\n",
       "      <td>True</td>\n",
       "      <td>False</td>\n",
       "      <td>False</td>\n",
       "      <td>False</td>\n",
       "      <td>True</td>\n",
       "      <td>True</td>\n",
       "      <td>264</td>\n",
       "    </tr>\n",
       "    <tr>\n",
       "      <th>2</th>\n",
       "      <td>Citroën</td>\n",
       "      <td>183297</td>\n",
       "      <td>120</td>\n",
       "      <td>diesel</td>\n",
       "      <td>white</td>\n",
       "      <td>convertible</td>\n",
       "      <td>False</td>\n",
       "      <td>False</td>\n",
       "      <td>False</td>\n",
       "      <td>False</td>\n",
       "      <td>True</td>\n",
       "      <td>False</td>\n",
       "      <td>True</td>\n",
       "      <td>101</td>\n",
       "    </tr>\n",
       "    <tr>\n",
       "      <th>3</th>\n",
       "      <td>Citroën</td>\n",
       "      <td>128035</td>\n",
       "      <td>135</td>\n",
       "      <td>diesel</td>\n",
       "      <td>red</td>\n",
       "      <td>convertible</td>\n",
       "      <td>True</td>\n",
       "      <td>True</td>\n",
       "      <td>False</td>\n",
       "      <td>False</td>\n",
       "      <td>True</td>\n",
       "      <td>True</td>\n",
       "      <td>True</td>\n",
       "      <td>158</td>\n",
       "    </tr>\n",
       "    <tr>\n",
       "      <th>4</th>\n",
       "      <td>Citroën</td>\n",
       "      <td>97097</td>\n",
       "      <td>160</td>\n",
       "      <td>diesel</td>\n",
       "      <td>silver</td>\n",
       "      <td>convertible</td>\n",
       "      <td>True</td>\n",
       "      <td>True</td>\n",
       "      <td>False</td>\n",
       "      <td>False</td>\n",
       "      <td>False</td>\n",
       "      <td>True</td>\n",
       "      <td>True</td>\n",
       "      <td>183</td>\n",
       "    </tr>\n",
       "  </tbody>\n",
       "</table>\n",
       "</div>"
      ],
      "text/plain": [
       "  model_key  mileage  engine_power    fuel paint_color     car_type  \\\n",
       "0   Citroën   140411           100  diesel       black  convertible   \n",
       "1   Citroën    13929           317  petrol        grey  convertible   \n",
       "2   Citroën   183297           120  diesel       white  convertible   \n",
       "3   Citroën   128035           135  diesel         red  convertible   \n",
       "4   Citroën    97097           160  diesel      silver  convertible   \n",
       "\n",
       "   private_parking_available  has_gps  has_air_conditioning  automatic_car  \\\n",
       "0                       True     True                 False          False   \n",
       "1                       True     True                 False          False   \n",
       "2                      False    False                 False          False   \n",
       "3                       True     True                 False          False   \n",
       "4                       True     True                 False          False   \n",
       "\n",
       "   has_getaround_connect  has_speed_regulator  winter_tires  \\\n",
       "0                   True                 True          True   \n",
       "1                  False                 True          True   \n",
       "2                   True                False          True   \n",
       "3                   True                 True          True   \n",
       "4                  False                 True          True   \n",
       "\n",
       "   rental_price_per_day  \n",
       "0                   106  \n",
       "1                   264  \n",
       "2                   101  \n",
       "3                   158  \n",
       "4                   183  "
      ]
     },
     "execution_count": 26,
     "metadata": {},
     "output_type": "execute_result"
    }
   ],
   "source": [
    "dataset.head()"
   ]
  },
  {
   "cell_type": "code",
   "execution_count": 29,
   "metadata": {},
   "outputs": [
    {
     "data": {
      "text/plain": [
       "model_key                    object\n",
       "mileage                       int64\n",
       "engine_power                  int64\n",
       "fuel                         object\n",
       "paint_color                  object\n",
       "car_type                     object\n",
       "private_parking_available      bool\n",
       "has_gps                        bool\n",
       "has_air_conditioning           bool\n",
       "automatic_car                  bool\n",
       "has_getaround_connect          bool\n",
       "has_speed_regulator            bool\n",
       "winter_tires                   bool\n",
       "rental_price_per_day          int64\n",
       "dtype: object"
      ]
     },
     "execution_count": 29,
     "metadata": {},
     "output_type": "execute_result"
    }
   ],
   "source": [
    "dataset.dtypes"
   ]
  },
  {
   "cell_type": "code",
   "execution_count": 27,
   "metadata": {},
   "outputs": [
    {
     "data": {
      "text/plain": [
       "\"\\n100*dataset.isnull().sum()/dataset.shape[0]\\n#\\nfor cols in dataset.columns:\\n    print(f'{cols} : {dataset[cols].value_counts().count()}/{len(dataset)}')\\n\""
      ]
     },
     "execution_count": 27,
     "metadata": {},
     "output_type": "execute_result"
    }
   ],
   "source": [
    "# No missing value or unique value in a column\n",
    "'''\n",
    "100*dataset.isnull().sum()/dataset.shape[0]\n",
    "#\n",
    "for cols in dataset.columns:\n",
    "    print(f'{cols} : {dataset[cols].value_counts().count()}/{len(dataset)}')\n",
    "'''"
   ]
  },
  {
   "cell_type": "code",
   "execution_count": null,
   "metadata": {},
   "outputs": [],
   "source": []
  }
 ],
 "metadata": {
  "kernelspec": {
   "display_name": "Python 3.9.5 64-bit",
   "language": "python",
   "name": "python3"
  },
  "language_info": {
   "codemirror_mode": {
    "name": "ipython",
    "version": 3
   },
   "file_extension": ".py",
   "mimetype": "text/x-python",
   "name": "python",
   "nbconvert_exporter": "python",
   "pygments_lexer": "ipython3",
   "version": "3.9.5"
  },
  "orig_nbformat": 4,
  "vscode": {
   "interpreter": {
    "hash": "7812ea015bdcee6f23a998adcdd2ef97c151c0c241b7b7070987d9313e41299d"
   }
  }
 },
 "nbformat": 4,
 "nbformat_minor": 2
}
